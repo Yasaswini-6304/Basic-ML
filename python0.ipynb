{
  "nbformat": 4,
  "nbformat_minor": 0,
  "metadata": {
    "colab": {
      "name": "Untitled0.ipynb",
      "provenance": [],
      "authorship_tag": "ABX9TyOsnb0UbO0zIJ14Sem7tObD",
      "include_colab_link": true
    },
    "kernelspec": {
      "name": "python3",
      "display_name": "Python 3"
    },
    "language_info": {
      "name": "python"
    }
  },
  "cells": [
    {
      "cell_type": "markdown",
      "metadata": {
        "id": "view-in-github",
        "colab_type": "text"
      },
      "source": [
        "<a href=\"https://colab.research.google.com/github/Yasaswini-6304/Basic-ML/blob/main/python0.ipynb\" target=\"_parent\"><img src=\"https://colab.research.google.com/assets/colab-badge.svg\" alt=\"Open In Colab\"/></a>"
      ]
    },
    {
      "cell_type": "markdown",
      "metadata": {
        "id": "IMuy5Gx--rVu"
      },
      "source": [
        "\n",
        "Python Program to Find the Largest Among Three Numbers"
      ]
    },
    {
      "cell_type": "code",
      "metadata": {
        "colab": {
          "base_uri": "https://localhost:8080/"
        },
        "id": "RoWevEqA-skc",
        "outputId": "3a2c903d-7496-4d12-edef-ccc1b8de9fbc"
      },
      "source": [
        "# Python program to find the largest number among the three input numbers\n",
        "\n",
        "# change the values of num1, num2 and num3\n",
        "\n",
        "\n",
        "# uncomment following lines to take three numbers from user\n",
        "num1 = float(input(\"Enter first number: \"))\n",
        "num2 = float(input(\"Enter second number: \"))\n",
        "num3 = float(input(\"Enter third number: \"))\n",
        "\n",
        "if (num1 >= num2) and (num1 >= num3):\n",
        "   largest = num1\n",
        "elif (num2 >= num1) and (num2 >= num3):\n",
        "   largest = num2\n",
        "else:\n",
        "   largest = num3\n",
        "\n",
        "print(\"The largest number is\", largest)\n"
      ],
      "execution_count": 18,
      "outputs": [
        {
          "output_type": "stream",
          "text": [
            "Enter first number: 7\n",
            "Enter second number: 6\n",
            "Enter third number: 9\n",
            "The largest number is 9.0\n"
          ],
          "name": "stdout"
        }
      ]
    },
    {
      "cell_type": "markdown",
      "metadata": {
        "id": "t-N0RJnxAMIS"
      },
      "source": [
        "Python Program to Find the Factorial of a Number"
      ]
    },
    {
      "cell_type": "code",
      "metadata": {
        "colab": {
          "base_uri": "https://localhost:8080/"
        },
        "id": "RjaJ257GARvZ",
        "outputId": "b16afdbf-6e23-435f-e6b7-7b1a7db5ce8a"
      },
      "source": [
        "# Python program to find the factorial of a number provided by the user.\n",
        "\n",
        "# change the value for a different result\n",
        "\n",
        "\n",
        "# To take input from the user\n",
        "num = int(input(\"Enter a number: \"))\n",
        "\n",
        "factorial = 1\n",
        "\n",
        "# check if the number is negative, positive or zero\n",
        "if num < 0:\n",
        "   print(\"factorial does not exist for negative numbers\")\n",
        "elif num == 0:\n",
        "   print(\"The factorial of 0 is 1\")\n",
        "else:\n",
        "   for i in range(1,num + 1):\n",
        "       factorial = factorial*i\n",
        "   print(\"The factorial of\",num,\"is\",factorial)\n"
      ],
      "execution_count": 19,
      "outputs": [
        {
          "output_type": "stream",
          "text": [
            "Enter a number: 7\n",
            "The factorial of 7 is 5040\n"
          ],
          "name": "stdout"
        }
      ]
    },
    {
      "cell_type": "markdown",
      "metadata": {
        "id": "aR9ubWdYAboY"
      },
      "source": [
        "Write a Python program that accepts a string and calculate the number of digits and letters"
      ]
    },
    {
      "cell_type": "code",
      "metadata": {
        "id": "0V-5VwLUAh2X"
      },
      "source": [
        "s = input(\"Input a string\")\n",
        "d=l=0\n",
        "for c in s:\n",
        "    if c.isdigit():\n",
        "        d=d+1\n",
        "    elif c.isalpha():\n",
        "        l=l+1\n",
        "    else:\n",
        "        pass\n",
        "print(\"Letters\", l)\n",
        "print(\"Digits\", d)"
      ],
      "execution_count": null,
      "outputs": []
    }
  ]
}